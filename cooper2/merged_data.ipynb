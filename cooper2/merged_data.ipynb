{
 "cells": [
  {
   "cell_type": "code",
   "execution_count": 34,
   "id": "04e531e8-5774-4dda-8eaf-0dd4c0bc796c",
   "metadata": {},
   "outputs": [],
   "source": [
    "import pandas as pd\n",
    "from pathlib import Path\n",
    "import matplotlib.pyplot as plt\n",
    "import numpy as np"
   ]
  },
  {
   "cell_type": "code",
   "execution_count": 36,
   "id": "a9672740-ff59-4336-a7c3-8ca1e9eaa3b3",
   "metadata": {},
   "outputs": [],
   "source": [
    "# created a csv of Vraj's population dataframe \n",
    "#loaded the (2) DataFrames - population and total cost of living \n",
    "\n",
    "df1 = pd.read_csv(r\"./population.csv\")\n",
    "df2 = pd.read_csv(r\"./avg_total_cost_of_living.csv\")"
   ]
  },
  {
   "cell_type": "code",
   "execution_count": 38,
   "id": "ce19cc94-3bdc-43b9-9fdf-4f7b8854e138",
   "metadata": {},
   "outputs": [
    {
     "data": {
      "text/html": [
       "<div>\n",
       "<style scoped>\n",
       "    .dataframe tbody tr th:only-of-type {\n",
       "        vertical-align: middle;\n",
       "    }\n",
       "\n",
       "    .dataframe tbody tr th {\n",
       "        vertical-align: top;\n",
       "    }\n",
       "\n",
       "    .dataframe thead th {\n",
       "        text-align: right;\n",
       "    }\n",
       "</style>\n",
       "<table border=\"1\" class=\"dataframe\">\n",
       "  <thead>\n",
       "    <tr style=\"text-align: right;\">\n",
       "      <th></th>\n",
       "      <th>Rank</th>\n",
       "      <th>US City</th>\n",
       "      <th>US State</th>\n",
       "      <th>Population 2024</th>\n",
       "      <th>Population 2020</th>\n",
       "      <th>Annual Change</th>\n",
       "    </tr>\n",
       "  </thead>\n",
       "  <tbody>\n",
       "    <tr>\n",
       "      <th>0</th>\n",
       "      <td>1</td>\n",
       "      <td>New York</td>\n",
       "      <td>New York</td>\n",
       "      <td>8097282</td>\n",
       "      <td>8740292</td>\n",
       "      <td>-1.95%</td>\n",
       "    </tr>\n",
       "    <tr>\n",
       "      <th>1</th>\n",
       "      <td>2</td>\n",
       "      <td>Los Angeles</td>\n",
       "      <td>California</td>\n",
       "      <td>3795936</td>\n",
       "      <td>3895848</td>\n",
       "      <td>-0.65%</td>\n",
       "    </tr>\n",
       "    <tr>\n",
       "      <th>2</th>\n",
       "      <td>3</td>\n",
       "      <td>Chicago</td>\n",
       "      <td>Illinois</td>\n",
       "      <td>2638159</td>\n",
       "      <td>2743329</td>\n",
       "      <td>-0.99%</td>\n",
       "    </tr>\n",
       "    <tr>\n",
       "      <th>3</th>\n",
       "      <td>8</td>\n",
       "      <td>San Diego</td>\n",
       "      <td>California</td>\n",
       "      <td>1388996</td>\n",
       "      <td>1386292</td>\n",
       "      <td>0.05%</td>\n",
       "    </tr>\n",
       "    <tr>\n",
       "      <th>4</th>\n",
       "      <td>12</td>\n",
       "      <td>Austin</td>\n",
       "      <td>Texas</td>\n",
       "      <td>984567</td>\n",
       "      <td>965827</td>\n",
       "      <td>0.48%</td>\n",
       "    </tr>\n",
       "  </tbody>\n",
       "</table>\n",
       "</div>"
      ],
      "text/plain": [
       "   Rank      US City    US State  Population 2024  Population 2020  \\\n",
       "0     1     New York    New York          8097282          8740292   \n",
       "1     2  Los Angeles  California          3795936          3895848   \n",
       "2     3      Chicago    Illinois          2638159          2743329   \n",
       "3     8    San Diego  California          1388996          1386292   \n",
       "4    12       Austin       Texas           984567           965827   \n",
       "\n",
       "  Annual Change  \n",
       "0        -1.95%  \n",
       "1        -0.65%  \n",
       "2        -0.99%  \n",
       "3         0.05%  \n",
       "4         0.48%  "
      ]
     },
     "execution_count": 38,
     "metadata": {},
     "output_type": "execute_result"
    }
   ],
   "source": [
    "df1.head()"
   ]
  },
  {
   "cell_type": "code",
   "execution_count": 40,
   "id": "2641ab65-1b40-4da4-88c5-96b259bbf30a",
   "metadata": {},
   "outputs": [
    {
     "data": {
      "text/html": [
       "<div>\n",
       "<style scoped>\n",
       "    .dataframe tbody tr th:only-of-type {\n",
       "        vertical-align: middle;\n",
       "    }\n",
       "\n",
       "    .dataframe tbody tr th {\n",
       "        vertical-align: top;\n",
       "    }\n",
       "\n",
       "    .dataframe thead th {\n",
       "        text-align: right;\n",
       "    }\n",
       "</style>\n",
       "<table border=\"1\" class=\"dataframe\">\n",
       "  <thead>\n",
       "    <tr style=\"text-align: right;\">\n",
       "      <th></th>\n",
       "      <th>City</th>\n",
       "      <th>Average_Total_Cost</th>\n",
       "    </tr>\n",
       "  </thead>\n",
       "  <tbody>\n",
       "    <tr>\n",
       "      <th>0</th>\n",
       "      <td>Atlanta</td>\n",
       "      <td>75559.66</td>\n",
       "    </tr>\n",
       "    <tr>\n",
       "      <th>1</th>\n",
       "      <td>Austin</td>\n",
       "      <td>70092.91</td>\n",
       "    </tr>\n",
       "    <tr>\n",
       "      <th>2</th>\n",
       "      <td>Boston</td>\n",
       "      <td>105947.07</td>\n",
       "    </tr>\n",
       "    <tr>\n",
       "      <th>3</th>\n",
       "      <td>Chicago</td>\n",
       "      <td>89801.78</td>\n",
       "    </tr>\n",
       "    <tr>\n",
       "      <th>4</th>\n",
       "      <td>Denver</td>\n",
       "      <td>94948.03</td>\n",
       "    </tr>\n",
       "  </tbody>\n",
       "</table>\n",
       "</div>"
      ],
      "text/plain": [
       "      City  Average_Total_Cost\n",
       "0  Atlanta            75559.66\n",
       "1   Austin            70092.91\n",
       "2   Boston           105947.07\n",
       "3  Chicago            89801.78\n",
       "4   Denver            94948.03"
      ]
     },
     "execution_count": 40,
     "metadata": {},
     "output_type": "execute_result"
    }
   ],
   "source": [
    "df2.head()"
   ]
  },
  {
   "cell_type": "code",
   "execution_count": 42,
   "id": "17cc5621-780a-4935-be5c-a05fac7863b6",
   "metadata": {},
   "outputs": [],
   "source": [
    "df2.rename(columns={'City': 'US City'}, inplace=True)"
   ]
  },
  {
   "cell_type": "code",
   "execution_count": 44,
   "id": "0b4e0cbe-50cc-437d-949d-5a99a25caace",
   "metadata": {
    "scrolled": true
   },
   "outputs": [
    {
     "data": {
      "text/html": [
       "<div>\n",
       "<style scoped>\n",
       "    .dataframe tbody tr th:only-of-type {\n",
       "        vertical-align: middle;\n",
       "    }\n",
       "\n",
       "    .dataframe tbody tr th {\n",
       "        vertical-align: top;\n",
       "    }\n",
       "\n",
       "    .dataframe thead th {\n",
       "        text-align: right;\n",
       "    }\n",
       "</style>\n",
       "<table border=\"1\" class=\"dataframe\">\n",
       "  <thead>\n",
       "    <tr style=\"text-align: right;\">\n",
       "      <th></th>\n",
       "      <th>US City</th>\n",
       "      <th>Average_Total_Cost</th>\n",
       "    </tr>\n",
       "  </thead>\n",
       "  <tbody>\n",
       "    <tr>\n",
       "      <th>0</th>\n",
       "      <td>Atlanta</td>\n",
       "      <td>75559.66</td>\n",
       "    </tr>\n",
       "    <tr>\n",
       "      <th>1</th>\n",
       "      <td>Austin</td>\n",
       "      <td>70092.91</td>\n",
       "    </tr>\n",
       "    <tr>\n",
       "      <th>2</th>\n",
       "      <td>Boston</td>\n",
       "      <td>105947.07</td>\n",
       "    </tr>\n",
       "    <tr>\n",
       "      <th>3</th>\n",
       "      <td>Chicago</td>\n",
       "      <td>89801.78</td>\n",
       "    </tr>\n",
       "    <tr>\n",
       "      <th>4</th>\n",
       "      <td>Denver</td>\n",
       "      <td>94948.03</td>\n",
       "    </tr>\n",
       "  </tbody>\n",
       "</table>\n",
       "</div>"
      ],
      "text/plain": [
       "   US City  Average_Total_Cost\n",
       "0  Atlanta            75559.66\n",
       "1   Austin            70092.91\n",
       "2   Boston           105947.07\n",
       "3  Chicago            89801.78\n",
       "4   Denver            94948.03"
      ]
     },
     "execution_count": 44,
     "metadata": {},
     "output_type": "execute_result"
    }
   ],
   "source": [
    "df2.head()"
   ]
  },
  {
   "cell_type": "code",
   "execution_count": 22,
   "id": "58400b27-abd3-4926-b4ae-7ded1f4f1323",
   "metadata": {},
   "outputs": [],
   "source": [
    "# merge with the common column\n",
    "merged_df = pd.merge(df1, df2, on='US City') "
   ]
  },
  {
   "cell_type": "code",
   "execution_count": 24,
   "id": "aa762900-aa32-4c68-91a5-0dacf07187ab",
   "metadata": {},
   "outputs": [
    {
     "data": {
      "text/html": [
       "<div>\n",
       "<style scoped>\n",
       "    .dataframe tbody tr th:only-of-type {\n",
       "        vertical-align: middle;\n",
       "    }\n",
       "\n",
       "    .dataframe tbody tr th {\n",
       "        vertical-align: top;\n",
       "    }\n",
       "\n",
       "    .dataframe thead th {\n",
       "        text-align: right;\n",
       "    }\n",
       "</style>\n",
       "<table border=\"1\" class=\"dataframe\">\n",
       "  <thead>\n",
       "    <tr style=\"text-align: right;\">\n",
       "      <th></th>\n",
       "      <th>Rank</th>\n",
       "      <th>US City</th>\n",
       "      <th>US State</th>\n",
       "      <th>Population 2024</th>\n",
       "      <th>Population 2020</th>\n",
       "      <th>Annual Change</th>\n",
       "      <th>Average_Total_Cost</th>\n",
       "    </tr>\n",
       "  </thead>\n",
       "  <tbody>\n",
       "    <tr>\n",
       "      <th>0</th>\n",
       "      <td>1</td>\n",
       "      <td>New York</td>\n",
       "      <td>New York</td>\n",
       "      <td>8097282</td>\n",
       "      <td>8740292</td>\n",
       "      <td>-1.95%</td>\n",
       "      <td>122290.97</td>\n",
       "    </tr>\n",
       "    <tr>\n",
       "      <th>1</th>\n",
       "      <td>2</td>\n",
       "      <td>Los Angeles</td>\n",
       "      <td>California</td>\n",
       "      <td>3795936</td>\n",
       "      <td>3895848</td>\n",
       "      <td>-0.65%</td>\n",
       "      <td>97766.39</td>\n",
       "    </tr>\n",
       "    <tr>\n",
       "      <th>2</th>\n",
       "      <td>3</td>\n",
       "      <td>Chicago</td>\n",
       "      <td>Illinois</td>\n",
       "      <td>2638159</td>\n",
       "      <td>2743329</td>\n",
       "      <td>-0.99%</td>\n",
       "      <td>89801.78</td>\n",
       "    </tr>\n",
       "    <tr>\n",
       "      <th>3</th>\n",
       "      <td>8</td>\n",
       "      <td>San Diego</td>\n",
       "      <td>California</td>\n",
       "      <td>1388996</td>\n",
       "      <td>1386292</td>\n",
       "      <td>0.05%</td>\n",
       "      <td>106769.00</td>\n",
       "    </tr>\n",
       "    <tr>\n",
       "      <th>4</th>\n",
       "      <td>12</td>\n",
       "      <td>Austin</td>\n",
       "      <td>Texas</td>\n",
       "      <td>984567</td>\n",
       "      <td>965827</td>\n",
       "      <td>0.48%</td>\n",
       "      <td>70092.91</td>\n",
       "    </tr>\n",
       "  </tbody>\n",
       "</table>\n",
       "</div>"
      ],
      "text/plain": [
       "   Rank      US City    US State  Population 2024  Population 2020  \\\n",
       "0     1     New York    New York          8097282          8740292   \n",
       "1     2  Los Angeles  California          3795936          3895848   \n",
       "2     3      Chicago    Illinois          2638159          2743329   \n",
       "3     8    San Diego  California          1388996          1386292   \n",
       "4    12       Austin       Texas           984567           965827   \n",
       "\n",
       "  Annual Change  Average_Total_Cost  \n",
       "0        -1.95%           122290.97  \n",
       "1        -0.65%            97766.39  \n",
       "2        -0.99%            89801.78  \n",
       "3         0.05%           106769.00  \n",
       "4         0.48%            70092.91  "
      ]
     },
     "execution_count": 24,
     "metadata": {},
     "output_type": "execute_result"
    }
   ],
   "source": [
    "merged_df.head()"
   ]
  },
  {
   "cell_type": "code",
   "execution_count": 26,
   "id": "cbd3af28-dfda-49db-bb33-7de30788ad58",
   "metadata": {},
   "outputs": [],
   "source": [
    "merged_df.rename(columns={'Average_Total_Cost': 'Total Cost'}, inplace=True)"
   ]
  },
  {
   "cell_type": "code",
   "execution_count": 28,
   "id": "4d12db1e-5d8f-4750-af94-8fb4f64597b9",
   "metadata": {},
   "outputs": [
    {
     "data": {
      "text/html": [
       "<div>\n",
       "<style scoped>\n",
       "    .dataframe tbody tr th:only-of-type {\n",
       "        vertical-align: middle;\n",
       "    }\n",
       "\n",
       "    .dataframe tbody tr th {\n",
       "        vertical-align: top;\n",
       "    }\n",
       "\n",
       "    .dataframe thead th {\n",
       "        text-align: right;\n",
       "    }\n",
       "</style>\n",
       "<table border=\"1\" class=\"dataframe\">\n",
       "  <thead>\n",
       "    <tr style=\"text-align: right;\">\n",
       "      <th></th>\n",
       "      <th>Rank</th>\n",
       "      <th>US City</th>\n",
       "      <th>US State</th>\n",
       "      <th>Population 2024</th>\n",
       "      <th>Population 2020</th>\n",
       "      <th>Annual Change</th>\n",
       "      <th>Total Cost</th>\n",
       "    </tr>\n",
       "  </thead>\n",
       "  <tbody>\n",
       "    <tr>\n",
       "      <th>0</th>\n",
       "      <td>1</td>\n",
       "      <td>New York</td>\n",
       "      <td>New York</td>\n",
       "      <td>8097282</td>\n",
       "      <td>8740292</td>\n",
       "      <td>-1.95%</td>\n",
       "      <td>122290.97</td>\n",
       "    </tr>\n",
       "    <tr>\n",
       "      <th>1</th>\n",
       "      <td>2</td>\n",
       "      <td>Los Angeles</td>\n",
       "      <td>California</td>\n",
       "      <td>3795936</td>\n",
       "      <td>3895848</td>\n",
       "      <td>-0.65%</td>\n",
       "      <td>97766.39</td>\n",
       "    </tr>\n",
       "    <tr>\n",
       "      <th>2</th>\n",
       "      <td>3</td>\n",
       "      <td>Chicago</td>\n",
       "      <td>Illinois</td>\n",
       "      <td>2638159</td>\n",
       "      <td>2743329</td>\n",
       "      <td>-0.99%</td>\n",
       "      <td>89801.78</td>\n",
       "    </tr>\n",
       "    <tr>\n",
       "      <th>3</th>\n",
       "      <td>8</td>\n",
       "      <td>San Diego</td>\n",
       "      <td>California</td>\n",
       "      <td>1388996</td>\n",
       "      <td>1386292</td>\n",
       "      <td>0.05%</td>\n",
       "      <td>106769.00</td>\n",
       "    </tr>\n",
       "    <tr>\n",
       "      <th>4</th>\n",
       "      <td>12</td>\n",
       "      <td>Austin</td>\n",
       "      <td>Texas</td>\n",
       "      <td>984567</td>\n",
       "      <td>965827</td>\n",
       "      <td>0.48%</td>\n",
       "      <td>70092.91</td>\n",
       "    </tr>\n",
       "  </tbody>\n",
       "</table>\n",
       "</div>"
      ],
      "text/plain": [
       "   Rank      US City    US State  Population 2024  Population 2020  \\\n",
       "0     1     New York    New York          8097282          8740292   \n",
       "1     2  Los Angeles  California          3795936          3895848   \n",
       "2     3      Chicago    Illinois          2638159          2743329   \n",
       "3     8    San Diego  California          1388996          1386292   \n",
       "4    12       Austin       Texas           984567           965827   \n",
       "\n",
       "  Annual Change  Total Cost  \n",
       "0        -1.95%   122290.97  \n",
       "1        -0.65%    97766.39  \n",
       "2        -0.99%    89801.78  \n",
       "3         0.05%   106769.00  \n",
       "4         0.48%    70092.91  "
      ]
     },
     "execution_count": 28,
     "metadata": {},
     "output_type": "execute_result"
    }
   ],
   "source": [
    "merged_df.head()"
   ]
  },
  {
   "cell_type": "code",
   "execution_count": 30,
   "id": "3aba3095-d2ab-4a60-a131-b0ee177bb969",
   "metadata": {},
   "outputs": [],
   "source": [
    "#define the variable\n",
    "x = merged_df['Population 2020']  \n",
    "y = merged_df['Total Cost']  "
   ]
  },
  {
   "cell_type": "code",
   "execution_count": 32,
   "id": "57250cd7-fb51-4dd7-9f63-5994eaae2eba",
   "metadata": {},
   "outputs": [
    {
     "data": {
      "text/plain": [
       "<matplotlib.collections.PathCollection at 0x14065d5b0>"
      ]
     },
     "execution_count": 32,
     "metadata": {},
     "output_type": "execute_result"
    },
    {
     "data": {
      "image/png": "[encoded data removed]",
      "text/plain": [
       "<Figure size 640x480 with 1 Axes>"
      ]
     },
     "metadata": {},
     "output_type": "display_data"
    }
   ],
   "source": [
    "plt.xlabel(\"Total Cost of Living\")\n",
    "plt.ylabel(\"Annual Population\")\n",
    "plt.title(\"City Population vs Cost of Living\")\n",
    "plt.scatter(y, x)\n",
    "#st.pearson(y, x)\n"
   ]
  },
  {
   "cell_type": "code",
   "execution_count": null,
   "id": "936a4c3f-f7e7-4841-b544-76064a4c7d34",
   "metadata": {},
   "outputs": [],
   "source": []
  }
 ],
 "metadata": {
  "kernelspec": {
   "display_name": "Python 3 (ipykernel)",
   "language": "python",
   "name": "python3"
  },
  "language_info": {
   "codemirror_mode": {
    "name": "ipython",
    "version": 3
   },
   "file_extension": ".py",
   "mimetype": "text/x-python",
   "name": "python",
   "nbconvert_exporter": "python",
   "pygments_lexer": "ipython3",
   "version": "3.12.4"
  }
 },
 "nbformat": 4,
 "nbformat_minor": 5
}
