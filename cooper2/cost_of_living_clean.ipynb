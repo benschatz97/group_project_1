{
 "cells": [
  {
   "cell_type": "code",
   "execution_count": 41,
   "id": "4d771549-65ca-4043-8e42-8d7af7ccaebd",
   "metadata": {},
   "outputs": [],
   "source": [
    "import pandas as pd\n",
    "from pathlib import Path\n",
    "import matplotlib.pyplot as plt\n",
    "import numpy as np"
   ]
  },
  {
   "cell_type": "code",
   "execution_count": 42,
   "id": "6f913a42-7515-4723-8054-07235e67b8e5",
   "metadata": {},
   "outputs": [
    {
     "name": "stderr",
     "output_type": "stream",
     "text": [
      "'ls' is not recognized as an internal or external command,\n",
      "operable program or batch file.\n"
     ]
    }
   ],
   "source": [
    "!ls"
   ]
  },
  {
   "cell_type": "code",
   "execution_count": 43,
   "id": "3e9d2ca2-2cca-4f56-bce6-25f24a291ddd",
   "metadata": {},
   "outputs": [
    {
     "name": "stderr",
     "output_type": "stream",
     "text": [
      "'pwd' is not recognized as an internal or external command,\n",
      "operable program or batch file.\n"
     ]
    }
   ],
   "source": [
    "!pwd"
   ]
  },
  {
   "cell_type": "code",
   "execution_count": 44,
   "id": "93309d70-e85b-4e58-97f1-c18c21422c30",
   "metadata": {},
   "outputs": [],
   "source": [
    "col_df = pd.read_csv(r\"cost_of_living_us.csv\")"
   ]
  },
  {
   "cell_type": "code",
   "execution_count": 45,
   "id": "85959f98-914a-4ce6-9e85-95f7d706b31b",
   "metadata": {
    "scrolled": true
   },
   "outputs": [
    {
     "data": {
      "text/plain": [
       "<bound method NDFrame.head of        case_id state  isMetro            areaname          county  \\\n",
       "0            1    AL     True  Montgomery, AL MSA  Autauga County   \n",
       "1            1    AL     True  Montgomery, AL MSA  Autauga County   \n",
       "2            1    AL     True  Montgomery, AL MSA  Autauga County   \n",
       "3            1    AL     True  Montgomery, AL MSA  Autauga County   \n",
       "4            1    AL     True  Montgomery, AL MSA  Autauga County   \n",
       "...        ...   ...      ...                 ...             ...   \n",
       "31425     3171    WY    False   Weston County, WY   Weston County   \n",
       "31426     3171    WY    False   Weston County, WY   Weston County   \n",
       "31427     3171    WY    False   Weston County, WY   Weston County   \n",
       "31428     3171    WY    False   Weston County, WY   Weston County   \n",
       "31429     3171    WY    False   Weston County, WY   Weston County   \n",
       "\n",
       "      family_member_count  housing_cost    food_cost  transportation_cost  \\\n",
       "0                    1p0c    8505.72876   3454.91712          10829.16876   \n",
       "1                    1p1c   12067.50240   5091.70788          11588.19288   \n",
       "2                    1p2c   12067.50240   7460.20308          12361.77720   \n",
       "3                    1p3c   15257.15040   9952.23924          13452.18600   \n",
       "4                    1p4c   15257.15040  12182.21400          13744.59840   \n",
       "...                   ...           ...          ...                  ...   \n",
       "31425                2p0c    8316.00000   6010.65672          14790.36240   \n",
       "31426                2p1c   10956.00000   7480.86696          15611.58600   \n",
       "31427                2p2c   10956.00000   9474.35748          16163.90280   \n",
       "31428                2p3c   13632.00000  11567.46972          17118.38400   \n",
       "31429                2p4c   13632.00000  14155.81080          17184.34920   \n",
       "\n",
       "       healthcare_cost  other_necessities_cost  childcare_cost        taxes  \\\n",
       "0           5737.47984              4333.81344          0.0000   6392.94504   \n",
       "1           8659.55640              6217.45896       6147.8298   7422.07836   \n",
       "2          11581.63260              7075.65816      15824.6940   9769.56228   \n",
       "3          14503.70760              9134.35620      18802.1892  13101.70320   \n",
       "4          17425.78560              9942.36396      18802.1892  13469.21880   \n",
       "...                ...                     ...             ...          ...   \n",
       "31425      14466.55920              5191.11288          0.0000   6640.77324   \n",
       "31426      18086.24160              6680.40384       8675.8770   7933.21068   \n",
       "31427      21705.92280              7402.72416      21207.6984   9502.56228   \n",
       "31428      25325.60400              9130.76148      25063.6440  11456.36724   \n",
       "31429      28945.28640             10068.61968      25063.6440  11484.86724   \n",
       "\n",
       "        total_cost  median_family_income  \n",
       "0       39254.0532           73010.41406  \n",
       "1       57194.3256           73010.41406  \n",
       "2       76141.0308           73010.41406  \n",
       "3       94203.5328           73010.41406  \n",
       "4      100823.5200           73010.41406  \n",
       "...            ...                   ...  \n",
       "31425   55415.4672           80177.65625  \n",
       "31426   75424.1832           80177.65625  \n",
       "31427   96413.1684           80177.65625  \n",
       "31428  113294.2260           80177.65625  \n",
       "31429  120534.5760           80177.65625  \n",
       "\n",
       "[31430 rows x 15 columns]>"
      ]
     },
     "execution_count": 45,
     "metadata": {},
     "output_type": "execute_result"
    }
   ],
   "source": [
    "col_df.head"
   ]
  },
  {
   "cell_type": "code",
   "execution_count": 46,
   "id": "332517d8-73a0-4ced-b443-458008f5400c",
   "metadata": {},
   "outputs": [
    {
     "data": {
      "text/plain": [
       "(31430, 15)"
      ]
     },
     "execution_count": 46,
     "metadata": {},
     "output_type": "execute_result"
    }
   ],
   "source": [
    "col_df.shape"
   ]
  },
  {
   "cell_type": "code",
   "execution_count": 47,
   "id": "7a427f35-b74f-40c5-8716-08e3b83b9c24",
   "metadata": {},
   "outputs": [
    {
     "data": {
      "text/html": [
       "<div>\n",
       "<style scoped>\n",
       "    .dataframe tbody tr th:only-of-type {\n",
       "        vertical-align: middle;\n",
       "    }\n",
       "\n",
       "    .dataframe tbody tr th {\n",
       "        vertical-align: top;\n",
       "    }\n",
       "\n",
       "    .dataframe thead th {\n",
       "        text-align: right;\n",
       "    }\n",
       "</style>\n",
       "<table border=\"1\" class=\"dataframe\">\n",
       "  <thead>\n",
       "    <tr style=\"text-align: right;\">\n",
       "      <th></th>\n",
       "      <th>state</th>\n",
       "      <th>areaname</th>\n",
       "      <th>housing_cost</th>\n",
       "      <th>food_cost</th>\n",
       "      <th>transportation_cost</th>\n",
       "      <th>healthcare_cost</th>\n",
       "      <th>other_necessities_cost</th>\n",
       "      <th>childcare_cost</th>\n",
       "      <th>taxes</th>\n",
       "      <th>total_cost</th>\n",
       "    </tr>\n",
       "  </thead>\n",
       "  <tbody>\n",
       "    <tr>\n",
       "      <th>0</th>\n",
       "      <td>AL</td>\n",
       "      <td>Montgomery, AL MSA</td>\n",
       "      <td>8505.72876</td>\n",
       "      <td>3454.91712</td>\n",
       "      <td>10829.16876</td>\n",
       "      <td>5737.47984</td>\n",
       "      <td>4333.81344</td>\n",
       "      <td>0.0000</td>\n",
       "      <td>6392.94504</td>\n",
       "      <td>39254.0532</td>\n",
       "    </tr>\n",
       "    <tr>\n",
       "      <th>1</th>\n",
       "      <td>AL</td>\n",
       "      <td>Montgomery, AL MSA</td>\n",
       "      <td>12067.50240</td>\n",
       "      <td>5091.70788</td>\n",
       "      <td>11588.19288</td>\n",
       "      <td>8659.55640</td>\n",
       "      <td>6217.45896</td>\n",
       "      <td>6147.8298</td>\n",
       "      <td>7422.07836</td>\n",
       "      <td>57194.3256</td>\n",
       "    </tr>\n",
       "    <tr>\n",
       "      <th>2</th>\n",
       "      <td>AL</td>\n",
       "      <td>Montgomery, AL MSA</td>\n",
       "      <td>12067.50240</td>\n",
       "      <td>7460.20308</td>\n",
       "      <td>12361.77720</td>\n",
       "      <td>11581.63260</td>\n",
       "      <td>7075.65816</td>\n",
       "      <td>15824.6940</td>\n",
       "      <td>9769.56228</td>\n",
       "      <td>76141.0308</td>\n",
       "    </tr>\n",
       "    <tr>\n",
       "      <th>3</th>\n",
       "      <td>AL</td>\n",
       "      <td>Montgomery, AL MSA</td>\n",
       "      <td>15257.15040</td>\n",
       "      <td>9952.23924</td>\n",
       "      <td>13452.18600</td>\n",
       "      <td>14503.70760</td>\n",
       "      <td>9134.35620</td>\n",
       "      <td>18802.1892</td>\n",
       "      <td>13101.70320</td>\n",
       "      <td>94203.5328</td>\n",
       "    </tr>\n",
       "    <tr>\n",
       "      <th>4</th>\n",
       "      <td>AL</td>\n",
       "      <td>Montgomery, AL MSA</td>\n",
       "      <td>15257.15040</td>\n",
       "      <td>12182.21400</td>\n",
       "      <td>13744.59840</td>\n",
       "      <td>17425.78560</td>\n",
       "      <td>9942.36396</td>\n",
       "      <td>18802.1892</td>\n",
       "      <td>13469.21880</td>\n",
       "      <td>100823.5200</td>\n",
       "    </tr>\n",
       "    <tr>\n",
       "      <th>...</th>\n",
       "      <td>...</td>\n",
       "      <td>...</td>\n",
       "      <td>...</td>\n",
       "      <td>...</td>\n",
       "      <td>...</td>\n",
       "      <td>...</td>\n",
       "      <td>...</td>\n",
       "      <td>...</td>\n",
       "      <td>...</td>\n",
       "      <td>...</td>\n",
       "    </tr>\n",
       "    <tr>\n",
       "      <th>31425</th>\n",
       "      <td>WY</td>\n",
       "      <td>Weston County, WY</td>\n",
       "      <td>8316.00000</td>\n",
       "      <td>6010.65672</td>\n",
       "      <td>14790.36240</td>\n",
       "      <td>14466.55920</td>\n",
       "      <td>5191.11288</td>\n",
       "      <td>0.0000</td>\n",
       "      <td>6640.77324</td>\n",
       "      <td>55415.4672</td>\n",
       "    </tr>\n",
       "    <tr>\n",
       "      <th>31426</th>\n",
       "      <td>WY</td>\n",
       "      <td>Weston County, WY</td>\n",
       "      <td>10956.00000</td>\n",
       "      <td>7480.86696</td>\n",
       "      <td>15611.58600</td>\n",
       "      <td>18086.24160</td>\n",
       "      <td>6680.40384</td>\n",
       "      <td>8675.8770</td>\n",
       "      <td>7933.21068</td>\n",
       "      <td>75424.1832</td>\n",
       "    </tr>\n",
       "    <tr>\n",
       "      <th>31427</th>\n",
       "      <td>WY</td>\n",
       "      <td>Weston County, WY</td>\n",
       "      <td>10956.00000</td>\n",
       "      <td>9474.35748</td>\n",
       "      <td>16163.90280</td>\n",
       "      <td>21705.92280</td>\n",
       "      <td>7402.72416</td>\n",
       "      <td>21207.6984</td>\n",
       "      <td>9502.56228</td>\n",
       "      <td>96413.1684</td>\n",
       "    </tr>\n",
       "    <tr>\n",
       "      <th>31428</th>\n",
       "      <td>WY</td>\n",
       "      <td>Weston County, WY</td>\n",
       "      <td>13632.00000</td>\n",
       "      <td>11567.46972</td>\n",
       "      <td>17118.38400</td>\n",
       "      <td>25325.60400</td>\n",
       "      <td>9130.76148</td>\n",
       "      <td>25063.6440</td>\n",
       "      <td>11456.36724</td>\n",
       "      <td>113294.2260</td>\n",
       "    </tr>\n",
       "    <tr>\n",
       "      <th>31429</th>\n",
       "      <td>WY</td>\n",
       "      <td>Weston County, WY</td>\n",
       "      <td>13632.00000</td>\n",
       "      <td>14155.81080</td>\n",
       "      <td>17184.34920</td>\n",
       "      <td>28945.28640</td>\n",
       "      <td>10068.61968</td>\n",
       "      <td>25063.6440</td>\n",
       "      <td>11484.86724</td>\n",
       "      <td>120534.5760</td>\n",
       "    </tr>\n",
       "  </tbody>\n",
       "</table>\n",
       "<p>31430 rows × 10 columns</p>\n",
       "</div>"
      ],
      "text/plain": [
       "      state            areaname  housing_cost    food_cost  \\\n",
       "0        AL  Montgomery, AL MSA    8505.72876   3454.91712   \n",
       "1        AL  Montgomery, AL MSA   12067.50240   5091.70788   \n",
       "2        AL  Montgomery, AL MSA   12067.50240   7460.20308   \n",
       "3        AL  Montgomery, AL MSA   15257.15040   9952.23924   \n",
       "4        AL  Montgomery, AL MSA   15257.15040  12182.21400   \n",
       "...     ...                 ...           ...          ...   \n",
       "31425    WY   Weston County, WY    8316.00000   6010.65672   \n",
       "31426    WY   Weston County, WY   10956.00000   7480.86696   \n",
       "31427    WY   Weston County, WY   10956.00000   9474.35748   \n",
       "31428    WY   Weston County, WY   13632.00000  11567.46972   \n",
       "31429    WY   Weston County, WY   13632.00000  14155.81080   \n",
       "\n",
       "       transportation_cost  healthcare_cost  other_necessities_cost  \\\n",
       "0              10829.16876       5737.47984              4333.81344   \n",
       "1              11588.19288       8659.55640              6217.45896   \n",
       "2              12361.77720      11581.63260              7075.65816   \n",
       "3              13452.18600      14503.70760              9134.35620   \n",
       "4              13744.59840      17425.78560              9942.36396   \n",
       "...                    ...              ...                     ...   \n",
       "31425          14790.36240      14466.55920              5191.11288   \n",
       "31426          15611.58600      18086.24160              6680.40384   \n",
       "31427          16163.90280      21705.92280              7402.72416   \n",
       "31428          17118.38400      25325.60400              9130.76148   \n",
       "31429          17184.34920      28945.28640             10068.61968   \n",
       "\n",
       "       childcare_cost        taxes   total_cost  \n",
       "0              0.0000   6392.94504   39254.0532  \n",
       "1           6147.8298   7422.07836   57194.3256  \n",
       "2          15824.6940   9769.56228   76141.0308  \n",
       "3          18802.1892  13101.70320   94203.5328  \n",
       "4          18802.1892  13469.21880  100823.5200  \n",
       "...               ...          ...          ...  \n",
       "31425          0.0000   6640.77324   55415.4672  \n",
       "31426       8675.8770   7933.21068   75424.1832  \n",
       "31427      21207.6984   9502.56228   96413.1684  \n",
       "31428      25063.6440  11456.36724  113294.2260  \n",
       "31429      25063.6440  11484.86724  120534.5760  \n",
       "\n",
       "[31430 rows x 10 columns]"
      ]
     },
     "execution_count": 47,
     "metadata": {},
     "output_type": "execute_result"
    }
   ],
   "source": [
    "col_df.drop(columns=['case_id','isMetro','family_member_count','county','median_family_income'])"
   ]
  },
  {
   "cell_type": "code",
   "execution_count": 48,
   "id": "5fb48446-b9e5-4a6d-b56a-2b35221d95dc",
   "metadata": {},
   "outputs": [],
   "source": [
    "col_df = col_df.drop(columns=['case_id','isMetro','family_member_count','county','median_family_income'])"
   ]
  },
  {
   "cell_type": "code",
   "execution_count": 49,
   "id": "3fed3127-19e8-44d4-a887-c103c67cfe5b",
   "metadata": {},
   "outputs": [],
   "source": [
    "col_grouped_df = col_df.groupby('areaname').sum()"
   ]
  },
  {
   "cell_type": "code",
   "execution_count": 50,
   "id": "2f1640df-90ee-4f77-9402-3f97d6f206d2",
   "metadata": {},
   "outputs": [
    {
     "data": {
      "text/plain": [
       "(2561, 9)"
      ]
     },
     "execution_count": 50,
     "metadata": {},
     "output_type": "execute_result"
    }
   ],
   "source": [
    "col_grouped_df.shape"
   ]
  },
  {
   "cell_type": "code",
   "execution_count": 51,
   "id": "af421966-16ee-4f00-88ad-03dd289c3b57",
   "metadata": {},
   "outputs": [
    {
     "name": "stdout",
     "output_type": "stream",
     "text": [
      "Mean total cost for the Atlanta: 75559.65813000001\n"
     ]
    }
   ],
   "source": [
    "filtered_city = col_df[col_df['areaname'] == 'Atlanta-Sandy Springs-Roswell, GA HUD Metro FMR Area']\n",
    "mean_total_cost_city = filtered_city['total_cost'].mean()\n",
    "print(f\"Mean total cost for the Atlanta: {mean_total_cost_city}\")"
   ]
  },
  {
   "cell_type": "code",
   "execution_count": 52,
   "id": "e8319670-7519-41d9-b3fb-99b459c9e1c4",
   "metadata": {},
   "outputs": [
    {
     "name": "stdout",
     "output_type": "stream",
     "text": [
      "Mean total cost for the Austin: 70092.9126\n"
     ]
    }
   ],
   "source": [
    "filtered_city = col_df[col_df['areaname'] == 'Austin County, TX HUD Metro FMR Area']\n",
    "mean_total_cost_city = filtered_city['total_cost'].mean()\n",
    "print(f\"Mean total cost for the Austin: {mean_total_cost_city}\")"
   ]
  },
  {
   "cell_type": "code",
   "execution_count": 53,
   "id": "872695bc-047e-4c9e-8334-d9007ceaec87",
   "metadata": {},
   "outputs": [
    {
     "name": "stdout",
     "output_type": "stream",
     "text": [
      "Mean total cost for the Boston: 105947.06639999998\n"
     ]
    }
   ],
   "source": [
    "filtered_city = col_df[col_df['areaname'] == 'Boston-Cambridge-Quincy, MA-NH HUD Metro FMR Area | Lawrence, MA-NH HUD Metro FMR Area |  |']\n",
    "mean_total_cost_city = filtered_city['total_cost'].mean()\n",
    "print(f\"Mean total cost for the Boston: {mean_total_cost_city}\")"
   ]
  },
  {
   "cell_type": "code",
   "execution_count": 54,
   "id": "29902a81-16a9-4fa9-9d67-fcc00961a169",
   "metadata": {},
   "outputs": [
    {
     "name": "stdout",
     "output_type": "stream",
     "text": [
      "Mean total cost for the Chicago: 89801.78286\n"
     ]
    }
   ],
   "source": [
    "filtered_city = col_df[col_df['areaname'] == 'Chicago-Joliet-Naperville, IL HUD Metro FMR Area']\n",
    "mean_total_cost_city = filtered_city['total_cost'].mean()\n",
    "print(f\"Mean total cost for the Chicago: {mean_total_cost_city}\")"
   ]
  },
  {
   "cell_type": "code",
   "execution_count": 55,
   "id": "b5392729-68f3-4060-92cc-51c581fae465",
   "metadata": {},
   "outputs": [
    {
     "name": "stdout",
     "output_type": "stream",
     "text": [
      "Mean total cost for the Denver: 94948.02886799998\n"
     ]
    }
   ],
   "source": [
    "filtered_city = col_df[col_df['areaname'] == 'Denver-Aurora-Lakewood, CO MSA']\n",
    "mean_total_cost_city = filtered_city['total_cost'].mean()\n",
    "print(f\"Mean total cost for the Denver: {mean_total_cost_city}\")"
   ]
  },
  {
   "cell_type": "code",
   "execution_count": 56,
   "id": "bba44b46-fd31-4a04-8349-ee40ed4def68",
   "metadata": {},
   "outputs": [
    {
     "name": "stdout",
     "output_type": "stream",
     "text": [
      "Mean total cost for the Los Angeles: 97766.38703999999\n"
     ]
    }
   ],
   "source": [
    "filtered_city = col_df[col_df['areaname'] == 'Los Angeles-Long Beach-Glendale, CA HUD Metro FMR Area']\n",
    "mean_total_cost_city = filtered_city['total_cost'].mean()\n",
    "print(f\"Mean total cost for the Los Angeles: {mean_total_cost_city}\")"
   ]
  },
  {
   "cell_type": "code",
   "execution_count": 57,
   "id": "605f0d1c-6d65-4630-b561-ae4e6b1865c8",
   "metadata": {},
   "outputs": [
    {
     "name": "stdout",
     "output_type": "stream",
     "text": [
      "Mean total cost for the Nashville: 74589.040956\n"
     ]
    }
   ],
   "source": [
    "filtered_city = col_df[col_df['areaname'] == 'Nashville-Davidson--Murfreesboro--Franklin, TN HUD Metro FMR Area']\n",
    "mean_total_cost_city = filtered_city['total_cost'].mean()\n",
    "print(f\"Mean total cost for the Nashville: {mean_total_cost_city}\")"
   ]
  },
  {
   "cell_type": "code",
   "execution_count": 58,
   "id": "69b6187d-91a6-4f83-b9cc-5a789f4bf2f3",
   "metadata": {},
   "outputs": [
    {
     "name": "stdout",
     "output_type": "stream",
     "text": [
      "Mean total cost for the New York: 122290.96962857143\n"
     ]
    }
   ],
   "source": [
    "filtered_city = col_df[col_df['areaname'] == 'New York, NY HUD Metro FMR Area']\n",
    "mean_total_cost_city = filtered_city['total_cost'].mean()\n",
    "print(f\"Mean total cost for the New York: {mean_total_cost_city}\")"
   ]
  },
  {
   "cell_type": "code",
   "execution_count": 59,
   "id": "9ab76f2b-fa46-4023-8ee5-092e70ff67ac",
   "metadata": {},
   "outputs": [
    {
     "name": "stdout",
     "output_type": "stream",
     "text": [
      "Mean total cost for the San Diego: 106768.99884000001\n"
     ]
    }
   ],
   "source": [
    "filtered_city = col_df[col_df['areaname'] == 'San Diego-Carlsbad, CA MSA']\n",
    "mean_total_cost_city = filtered_city['total_cost'].mean()\n",
    "print(f\"Mean total cost for the San Diego: {mean_total_cost_city}\")"
   ]
  },
  {
   "cell_type": "code",
   "execution_count": 60,
   "id": "42a57914-ff2e-4bcb-917e-59369b1a8994",
   "metadata": {},
   "outputs": [
    {
     "name": "stdout",
     "output_type": "stream",
     "text": [
      "Mean total cost for the Tampa: 75533.98844999999\n"
     ]
    }
   ],
   "source": [
    "filtered_city = col_df[col_df['areaname'] == 'Tampa-St. Petersburg-Clearwater, FL MSA']\n",
    "mean_total_cost_city = filtered_city['total_cost'].mean()\n",
    "print(f\"Mean total cost for the Tampa: {mean_total_cost_city}\")"
   ]
  },
  {
   "cell_type": "code",
   "execution_count": 61,
   "id": "69234dcf-3870-4af1-98a5-02f497646a2a",
   "metadata": {},
   "outputs": [],
   "source": [
    "col_df_filtered = col_df[col_df['areaname'].isin(['Atlanta-Sandy Springs-Roswell, GA HUD Metro FMR Area',\n",
    "                                      'Austin County, TX HUD Metro FMR Area',\n",
    "                                      'Boston-Cambridge-Quincy, MA-NH HUD Metro FMR Area | Lawrence, MA-NH HUD Metro FMR Area |  |',\n",
    "                                      'Chicago-Joliet-Naperville, IL HUD Metro FMR Area',\n",
    "                                      'Denver-Aurora-Lakewood, CO MSA',\n",
    "                                      'Los Angeles-Long Beach-Glendale, CA HUD Metro FMR Area',\n",
    "                                      'Nashville-Davidson--Murfreesboro--Franklin, TN HUD Metro FMR Area',\n",
    "                                      'New York, NY HUD Metro FMR Area',\n",
    "                                      'San Diego-Carlsbad, CA MSA',\n",
    "                                      'Tampa-St. Petersburg-Clearwater, FL MSA'\n",
    "                                      ])]"
   ]
  },
  {
   "cell_type": "code",
   "execution_count": 62,
   "id": "f9be4434-86df-4581-a4d3-62633f93470b",
   "metadata": {
    "scrolled": true
   },
   "outputs": [
    {
     "data": {
      "text/html": [
       "<div>\n",
       "<style scoped>\n",
       "    .dataframe tbody tr th:only-of-type {\n",
       "        vertical-align: middle;\n",
       "    }\n",
       "\n",
       "    .dataframe tbody tr th {\n",
       "        vertical-align: top;\n",
       "    }\n",
       "\n",
       "    .dataframe thead th {\n",
       "        text-align: right;\n",
       "    }\n",
       "</style>\n",
       "<table border=\"1\" class=\"dataframe\">\n",
       "  <thead>\n",
       "    <tr style=\"text-align: right;\">\n",
       "      <th></th>\n",
       "      <th>state</th>\n",
       "      <th>areaname</th>\n",
       "      <th>housing_cost</th>\n",
       "      <th>food_cost</th>\n",
       "      <th>transportation_cost</th>\n",
       "      <th>healthcare_cost</th>\n",
       "      <th>other_necessities_cost</th>\n",
       "      <th>childcare_cost</th>\n",
       "      <th>taxes</th>\n",
       "      <th>total_cost</th>\n",
       "    </tr>\n",
       "  </thead>\n",
       "  <tbody>\n",
       "    <tr>\n",
       "      <th>2040</th>\n",
       "      <td>CA</td>\n",
       "      <td>Los Angeles-Long Beach-Glendale, CA HUD Metro ...</td>\n",
       "      <td>16428.0</td>\n",
       "      <td>3589.79328</td>\n",
       "      <td>9858.96168</td>\n",
       "      <td>3884.37996</td>\n",
       "      <td>7253.23608</td>\n",
       "      <td>0.00000</td>\n",
       "      <td>7876.48824</td>\n",
       "      <td>48890.8596</td>\n",
       "    </tr>\n",
       "    <tr>\n",
       "      <th>2041</th>\n",
       "      <td>CA</td>\n",
       "      <td>Los Angeles-Long Beach-Glendale, CA HUD Metro ...</td>\n",
       "      <td>24696.0</td>\n",
       "      <td>5290.48284</td>\n",
       "      <td>10638.78072</td>\n",
       "      <td>5832.11760</td>\n",
       "      <td>10865.28516</td>\n",
       "      <td>10363.66476</td>\n",
       "      <td>10934.91432</td>\n",
       "      <td>78621.2460</td>\n",
       "    </tr>\n",
       "    <tr>\n",
       "      <th>2042</th>\n",
       "      <td>CA</td>\n",
       "      <td>Los Angeles-Long Beach-Glendale, CA HUD Metro ...</td>\n",
       "      <td>24696.0</td>\n",
       "      <td>7751.44188</td>\n",
       "      <td>11748.44016</td>\n",
       "      <td>7779.85548</td>\n",
       "      <td>11756.98824</td>\n",
       "      <td>15879.83640</td>\n",
       "      <td>12736.63320</td>\n",
       "      <td>92349.1932</td>\n",
       "    </tr>\n",
       "    <tr>\n",
       "      <th>2043</th>\n",
       "      <td>CA</td>\n",
       "      <td>Los Angeles-Long Beach-Glendale, CA HUD Metro ...</td>\n",
       "      <td>32820.0</td>\n",
       "      <td>10340.76564</td>\n",
       "      <td>13112.81400</td>\n",
       "      <td>9727.59228</td>\n",
       "      <td>15638.84760</td>\n",
       "      <td>17577.12120</td>\n",
       "      <td>19934.78160</td>\n",
       "      <td>119151.9252</td>\n",
       "    </tr>\n",
       "    <tr>\n",
       "      <th>2044</th>\n",
       "      <td>CA</td>\n",
       "      <td>Los Angeles-Long Beach-Glendale, CA HUD Metro ...</td>\n",
       "      <td>32820.0</td>\n",
       "      <td>12657.79560</td>\n",
       "      <td>13747.30080</td>\n",
       "      <td>11675.33052</td>\n",
       "      <td>16478.40000</td>\n",
       "      <td>17577.12120</td>\n",
       "      <td>20327.65560</td>\n",
       "      <td>125283.6120</td>\n",
       "    </tr>\n",
       "    <tr>\n",
       "      <th>...</th>\n",
       "      <td>...</td>\n",
       "      <td>...</td>\n",
       "      <td>...</td>\n",
       "      <td>...</td>\n",
       "      <td>...</td>\n",
       "      <td>...</td>\n",
       "      <td>...</td>\n",
       "      <td>...</td>\n",
       "      <td>...</td>\n",
       "      <td>...</td>\n",
       "    </tr>\n",
       "    <tr>\n",
       "      <th>25315</th>\n",
       "      <td>TX</td>\n",
       "      <td>Austin County, TX HUD Metro FMR Area</td>\n",
       "      <td>9720.0</td>\n",
       "      <td>5706.31932</td>\n",
       "      <td>14392.58640</td>\n",
       "      <td>10370.95968</td>\n",
       "      <td>5589.56400</td>\n",
       "      <td>0.00000</td>\n",
       "      <td>6037.02360</td>\n",
       "      <td>51816.4512</td>\n",
       "    </tr>\n",
       "    <tr>\n",
       "      <th>25316</th>\n",
       "      <td>TX</td>\n",
       "      <td>Austin County, TX HUD Metro FMR Area</td>\n",
       "      <td>11472.0</td>\n",
       "      <td>7102.08840</td>\n",
       "      <td>15132.35760</td>\n",
       "      <td>13018.76400</td>\n",
       "      <td>6730.12500</td>\n",
       "      <td>6981.10404</td>\n",
       "      <td>6485.59356</td>\n",
       "      <td>66922.0308</td>\n",
       "    </tr>\n",
       "    <tr>\n",
       "      <th>25317</th>\n",
       "      <td>TX</td>\n",
       "      <td>Austin County, TX HUD Metro FMR Area</td>\n",
       "      <td>11472.0</td>\n",
       "      <td>8994.64164</td>\n",
       "      <td>15633.33720</td>\n",
       "      <td>15666.56880</td>\n",
       "      <td>7415.87112</td>\n",
       "      <td>11799.10836</td>\n",
       "      <td>6023.29692</td>\n",
       "      <td>77004.8208</td>\n",
       "    </tr>\n",
       "    <tr>\n",
       "      <th>25318</th>\n",
       "      <td>TX</td>\n",
       "      <td>Austin County, TX HUD Metro FMR Area</td>\n",
       "      <td>14904.0</td>\n",
       "      <td>10981.77468</td>\n",
       "      <td>15886.86720</td>\n",
       "      <td>18314.37360</td>\n",
       "      <td>9379.43700</td>\n",
       "      <td>13281.57000</td>\n",
       "      <td>6412.58568</td>\n",
       "      <td>89160.6096</td>\n",
       "    </tr>\n",
       "    <tr>\n",
       "      <th>25319</th>\n",
       "      <td>TX</td>\n",
       "      <td>Austin County, TX HUD Metro FMR Area</td>\n",
       "      <td>14904.0</td>\n",
       "      <td>13439.06160</td>\n",
       "      <td>15938.45040</td>\n",
       "      <td>20962.17600</td>\n",
       "      <td>10269.80928</td>\n",
       "      <td>13281.57000</td>\n",
       "      <td>5722.91424</td>\n",
       "      <td>94517.9820</td>\n",
       "    </tr>\n",
       "  </tbody>\n",
       "</table>\n",
       "<p>650 rows × 10 columns</p>\n",
       "</div>"
      ],
      "text/plain": [
       "      state                                           areaname  housing_cost  \\\n",
       "2040     CA  Los Angeles-Long Beach-Glendale, CA HUD Metro ...       16428.0   \n",
       "2041     CA  Los Angeles-Long Beach-Glendale, CA HUD Metro ...       24696.0   \n",
       "2042     CA  Los Angeles-Long Beach-Glendale, CA HUD Metro ...       24696.0   \n",
       "2043     CA  Los Angeles-Long Beach-Glendale, CA HUD Metro ...       32820.0   \n",
       "2044     CA  Los Angeles-Long Beach-Glendale, CA HUD Metro ...       32820.0   \n",
       "...     ...                                                ...           ...   \n",
       "25315    TX               Austin County, TX HUD Metro FMR Area        9720.0   \n",
       "25316    TX               Austin County, TX HUD Metro FMR Area       11472.0   \n",
       "25317    TX               Austin County, TX HUD Metro FMR Area       11472.0   \n",
       "25318    TX               Austin County, TX HUD Metro FMR Area       14904.0   \n",
       "25319    TX               Austin County, TX HUD Metro FMR Area       14904.0   \n",
       "\n",
       "         food_cost  transportation_cost  healthcare_cost  \\\n",
       "2040    3589.79328           9858.96168       3884.37996   \n",
       "2041    5290.48284          10638.78072       5832.11760   \n",
       "2042    7751.44188          11748.44016       7779.85548   \n",
       "2043   10340.76564          13112.81400       9727.59228   \n",
       "2044   12657.79560          13747.30080      11675.33052   \n",
       "...            ...                  ...              ...   \n",
       "25315   5706.31932          14392.58640      10370.95968   \n",
       "25316   7102.08840          15132.35760      13018.76400   \n",
       "25317   8994.64164          15633.33720      15666.56880   \n",
       "25318  10981.77468          15886.86720      18314.37360   \n",
       "25319  13439.06160          15938.45040      20962.17600   \n",
       "\n",
       "       other_necessities_cost  childcare_cost        taxes   total_cost  \n",
       "2040               7253.23608         0.00000   7876.48824   48890.8596  \n",
       "2041              10865.28516     10363.66476  10934.91432   78621.2460  \n",
       "2042              11756.98824     15879.83640  12736.63320   92349.1932  \n",
       "2043              15638.84760     17577.12120  19934.78160  119151.9252  \n",
       "2044              16478.40000     17577.12120  20327.65560  125283.6120  \n",
       "...                       ...             ...          ...          ...  \n",
       "25315              5589.56400         0.00000   6037.02360   51816.4512  \n",
       "25316              6730.12500      6981.10404   6485.59356   66922.0308  \n",
       "25317              7415.87112     11799.10836   6023.29692   77004.8208  \n",
       "25318              9379.43700     13281.57000   6412.58568   89160.6096  \n",
       "25319             10269.80928     13281.57000   5722.91424   94517.9820  \n",
       "\n",
       "[650 rows x 10 columns]"
      ]
     },
     "execution_count": 62,
     "metadata": {},
     "output_type": "execute_result"
    }
   ],
   "source": [
    "col_df_filtered"
   ]
  },
  {
   "cell_type": "code",
   "execution_count": 63,
   "id": "7a615c85-a6a4-4530-9808-dcd931c4ee32",
   "metadata": {},
   "outputs": [
    {
     "data": {
      "text/html": [
       "<div>\n",
       "<style scoped>\n",
       "    .dataframe tbody tr th:only-of-type {\n",
       "        vertical-align: middle;\n",
       "    }\n",
       "\n",
       "    .dataframe tbody tr th {\n",
       "        vertical-align: top;\n",
       "    }\n",
       "\n",
       "    .dataframe thead th {\n",
       "        text-align: right;\n",
       "    }\n",
       "</style>\n",
       "<table border=\"1\" class=\"dataframe\">\n",
       "  <thead>\n",
       "    <tr style=\"text-align: right;\">\n",
       "      <th></th>\n",
       "      <th>state</th>\n",
       "      <th>areaname</th>\n",
       "      <th>housing_cost</th>\n",
       "      <th>food_cost</th>\n",
       "      <th>transportation_cost</th>\n",
       "      <th>healthcare_cost</th>\n",
       "      <th>other_necessities_cost</th>\n",
       "      <th>childcare_cost</th>\n",
       "      <th>taxes</th>\n",
       "      <th>total_cost</th>\n",
       "    </tr>\n",
       "  </thead>\n",
       "  <tbody>\n",
       "    <tr>\n",
       "      <th>2040</th>\n",
       "      <td>CA</td>\n",
       "      <td>Los Angeles-Long Beach-Glendale, CA HUD Metro ...</td>\n",
       "      <td>16428.0</td>\n",
       "      <td>3589.79328</td>\n",
       "      <td>9858.96168</td>\n",
       "      <td>3884.37996</td>\n",
       "      <td>7253.23608</td>\n",
       "      <td>0.00000</td>\n",
       "      <td>7876.48824</td>\n",
       "      <td>48890.8596</td>\n",
       "    </tr>\n",
       "    <tr>\n",
       "      <th>2041</th>\n",
       "      <td>CA</td>\n",
       "      <td>Los Angeles-Long Beach-Glendale, CA HUD Metro ...</td>\n",
       "      <td>24696.0</td>\n",
       "      <td>5290.48284</td>\n",
       "      <td>10638.78072</td>\n",
       "      <td>5832.11760</td>\n",
       "      <td>10865.28516</td>\n",
       "      <td>10363.66476</td>\n",
       "      <td>10934.91432</td>\n",
       "      <td>78621.2460</td>\n",
       "    </tr>\n",
       "    <tr>\n",
       "      <th>2042</th>\n",
       "      <td>CA</td>\n",
       "      <td>Los Angeles-Long Beach-Glendale, CA HUD Metro ...</td>\n",
       "      <td>24696.0</td>\n",
       "      <td>7751.44188</td>\n",
       "      <td>11748.44016</td>\n",
       "      <td>7779.85548</td>\n",
       "      <td>11756.98824</td>\n",
       "      <td>15879.83640</td>\n",
       "      <td>12736.63320</td>\n",
       "      <td>92349.1932</td>\n",
       "    </tr>\n",
       "    <tr>\n",
       "      <th>2043</th>\n",
       "      <td>CA</td>\n",
       "      <td>Los Angeles-Long Beach-Glendale, CA HUD Metro ...</td>\n",
       "      <td>32820.0</td>\n",
       "      <td>10340.76564</td>\n",
       "      <td>13112.81400</td>\n",
       "      <td>9727.59228</td>\n",
       "      <td>15638.84760</td>\n",
       "      <td>17577.12120</td>\n",
       "      <td>19934.78160</td>\n",
       "      <td>119151.9252</td>\n",
       "    </tr>\n",
       "    <tr>\n",
       "      <th>2044</th>\n",
       "      <td>CA</td>\n",
       "      <td>Los Angeles-Long Beach-Glendale, CA HUD Metro ...</td>\n",
       "      <td>32820.0</td>\n",
       "      <td>12657.79560</td>\n",
       "      <td>13747.30080</td>\n",
       "      <td>11675.33052</td>\n",
       "      <td>16478.40000</td>\n",
       "      <td>17577.12120</td>\n",
       "      <td>20327.65560</td>\n",
       "      <td>125283.6120</td>\n",
       "    </tr>\n",
       "    <tr>\n",
       "      <th>...</th>\n",
       "      <td>...</td>\n",
       "      <td>...</td>\n",
       "      <td>...</td>\n",
       "      <td>...</td>\n",
       "      <td>...</td>\n",
       "      <td>...</td>\n",
       "      <td>...</td>\n",
       "      <td>...</td>\n",
       "      <td>...</td>\n",
       "      <td>...</td>\n",
       "    </tr>\n",
       "    <tr>\n",
       "      <th>25315</th>\n",
       "      <td>TX</td>\n",
       "      <td>Austin County, TX HUD Metro FMR Area</td>\n",
       "      <td>9720.0</td>\n",
       "      <td>5706.31932</td>\n",
       "      <td>14392.58640</td>\n",
       "      <td>10370.95968</td>\n",
       "      <td>5589.56400</td>\n",
       "      <td>0.00000</td>\n",
       "      <td>6037.02360</td>\n",
       "      <td>51816.4512</td>\n",
       "    </tr>\n",
       "    <tr>\n",
       "      <th>25316</th>\n",
       "      <td>TX</td>\n",
       "      <td>Austin County, TX HUD Metro FMR Area</td>\n",
       "      <td>11472.0</td>\n",
       "      <td>7102.08840</td>\n",
       "      <td>15132.35760</td>\n",
       "      <td>13018.76400</td>\n",
       "      <td>6730.12500</td>\n",
       "      <td>6981.10404</td>\n",
       "      <td>6485.59356</td>\n",
       "      <td>66922.0308</td>\n",
       "    </tr>\n",
       "    <tr>\n",
       "      <th>25317</th>\n",
       "      <td>TX</td>\n",
       "      <td>Austin County, TX HUD Metro FMR Area</td>\n",
       "      <td>11472.0</td>\n",
       "      <td>8994.64164</td>\n",
       "      <td>15633.33720</td>\n",
       "      <td>15666.56880</td>\n",
       "      <td>7415.87112</td>\n",
       "      <td>11799.10836</td>\n",
       "      <td>6023.29692</td>\n",
       "      <td>77004.8208</td>\n",
       "    </tr>\n",
       "    <tr>\n",
       "      <th>25318</th>\n",
       "      <td>TX</td>\n",
       "      <td>Austin County, TX HUD Metro FMR Area</td>\n",
       "      <td>14904.0</td>\n",
       "      <td>10981.77468</td>\n",
       "      <td>15886.86720</td>\n",
       "      <td>18314.37360</td>\n",
       "      <td>9379.43700</td>\n",
       "      <td>13281.57000</td>\n",
       "      <td>6412.58568</td>\n",
       "      <td>89160.6096</td>\n",
       "    </tr>\n",
       "    <tr>\n",
       "      <th>25319</th>\n",
       "      <td>TX</td>\n",
       "      <td>Austin County, TX HUD Metro FMR Area</td>\n",
       "      <td>14904.0</td>\n",
       "      <td>13439.06160</td>\n",
       "      <td>15938.45040</td>\n",
       "      <td>20962.17600</td>\n",
       "      <td>10269.80928</td>\n",
       "      <td>13281.57000</td>\n",
       "      <td>5722.91424</td>\n",
       "      <td>94517.9820</td>\n",
       "    </tr>\n",
       "  </tbody>\n",
       "</table>\n",
       "<p>650 rows × 10 columns</p>\n",
       "</div>"
      ],
      "text/plain": [
       "      state                                           areaname  housing_cost  \\\n",
       "2040     CA  Los Angeles-Long Beach-Glendale, CA HUD Metro ...       16428.0   \n",
       "2041     CA  Los Angeles-Long Beach-Glendale, CA HUD Metro ...       24696.0   \n",
       "2042     CA  Los Angeles-Long Beach-Glendale, CA HUD Metro ...       24696.0   \n",
       "2043     CA  Los Angeles-Long Beach-Glendale, CA HUD Metro ...       32820.0   \n",
       "2044     CA  Los Angeles-Long Beach-Glendale, CA HUD Metro ...       32820.0   \n",
       "...     ...                                                ...           ...   \n",
       "25315    TX               Austin County, TX HUD Metro FMR Area        9720.0   \n",
       "25316    TX               Austin County, TX HUD Metro FMR Area       11472.0   \n",
       "25317    TX               Austin County, TX HUD Metro FMR Area       11472.0   \n",
       "25318    TX               Austin County, TX HUD Metro FMR Area       14904.0   \n",
       "25319    TX               Austin County, TX HUD Metro FMR Area       14904.0   \n",
       "\n",
       "         food_cost  transportation_cost  healthcare_cost  \\\n",
       "2040    3589.79328           9858.96168       3884.37996   \n",
       "2041    5290.48284          10638.78072       5832.11760   \n",
       "2042    7751.44188          11748.44016       7779.85548   \n",
       "2043   10340.76564          13112.81400       9727.59228   \n",
       "2044   12657.79560          13747.30080      11675.33052   \n",
       "...            ...                  ...              ...   \n",
       "25315   5706.31932          14392.58640      10370.95968   \n",
       "25316   7102.08840          15132.35760      13018.76400   \n",
       "25317   8994.64164          15633.33720      15666.56880   \n",
       "25318  10981.77468          15886.86720      18314.37360   \n",
       "25319  13439.06160          15938.45040      20962.17600   \n",
       "\n",
       "       other_necessities_cost  childcare_cost        taxes   total_cost  \n",
       "2040               7253.23608         0.00000   7876.48824   48890.8596  \n",
       "2041              10865.28516     10363.66476  10934.91432   78621.2460  \n",
       "2042              11756.98824     15879.83640  12736.63320   92349.1932  \n",
       "2043              15638.84760     17577.12120  19934.78160  119151.9252  \n",
       "2044              16478.40000     17577.12120  20327.65560  125283.6120  \n",
       "...                       ...             ...          ...          ...  \n",
       "25315              5589.56400         0.00000   6037.02360   51816.4512  \n",
       "25316              6730.12500      6981.10404   6485.59356   66922.0308  \n",
       "25317              7415.87112     11799.10836   6023.29692   77004.8208  \n",
       "25318              9379.43700     13281.57000   6412.58568   89160.6096  \n",
       "25319             10269.80928     13281.57000   5722.91424   94517.9820  \n",
       "\n",
       "[650 rows x 10 columns]"
      ]
     },
     "execution_count": 63,
     "metadata": {},
     "output_type": "execute_result"
    }
   ],
   "source": [
    "col_df_filtered "
   ]
  },
  {
   "cell_type": "code",
   "execution_count": 64,
   "id": "aad513bb-0e12-453f-85a6-ae6d54a1707a",
   "metadata": {},
   "outputs": [],
   "source": [
    "newdata = {\n",
    "    'City': ['Atlanta', 'Austin', \n",
    "             'Boston','Chicago',\n",
    "             'Denver','Los Angeles',\n",
    "             'Nashville','New York',\n",
    "             'San Diego','Tampa'],\n",
    "    'Total_Cost': [75559.65813000001, \n",
    "                           70092.9126, \n",
    "                           105947.06639999998,\n",
    "                           89801.78286,\n",
    "                           94948.02886799998,\n",
    "                           97766.38703999999,74589.040956,\n",
    "                           122290.96962857143,106768.99884000001,75533.98844999999\n",
    "                          ]}\n",
    "\n",
    "newdata = pd.DataFrame(newdata)"
   ]
  },
  {
   "cell_type": "code",
   "execution_count": 65,
   "id": "d4512d7d-d7ca-4c9a-a216-ccdf5a202c10",
   "metadata": {
    "scrolled": true
   },
   "outputs": [
    {
     "name": "stdout",
     "output_type": "stream",
     "text": [
      "          City     Total_Cost\n",
      "0      Atlanta   75559.658130\n",
      "1       Austin   70092.912600\n",
      "2       Boston  105947.066400\n",
      "3      Chicago   89801.782860\n",
      "4       Denver   94948.028868\n",
      "5  Los Angeles   97766.387040\n",
      "6    Nashville   74589.040956\n",
      "7     New York  122290.969629\n",
      "8    San Diego  106768.998840\n",
      "9        Tampa   75533.988450\n"
     ]
    }
   ],
   "source": [
    "print (newdata)"
   ]
  },
  {
   "cell_type": "code",
   "execution_count": 66,
   "id": "aa3e6398-df08-4fea-95dd-53b0e5849ff3",
   "metadata": {},
   "outputs": [
    {
     "data": {
      "text/html": [
       "<div>\n",
       "<style scoped>\n",
       "    .dataframe tbody tr th:only-of-type {\n",
       "        vertical-align: middle;\n",
       "    }\n",
       "\n",
       "    .dataframe tbody tr th {\n",
       "        vertical-align: top;\n",
       "    }\n",
       "\n",
       "    .dataframe thead th {\n",
       "        text-align: right;\n",
       "    }\n",
       "</style>\n",
       "<table border=\"1\" class=\"dataframe\">\n",
       "  <thead>\n",
       "    <tr style=\"text-align: right;\">\n",
       "      <th></th>\n",
       "      <th>City</th>\n",
       "      <th>Total_Cost</th>\n",
       "    </tr>\n",
       "  </thead>\n",
       "  <tbody>\n",
       "    <tr>\n",
       "      <th>0</th>\n",
       "      <td>Atlanta</td>\n",
       "      <td>75559.66</td>\n",
       "    </tr>\n",
       "    <tr>\n",
       "      <th>1</th>\n",
       "      <td>Austin</td>\n",
       "      <td>70092.91</td>\n",
       "    </tr>\n",
       "    <tr>\n",
       "      <th>2</th>\n",
       "      <td>Boston</td>\n",
       "      <td>105947.07</td>\n",
       "    </tr>\n",
       "    <tr>\n",
       "      <th>3</th>\n",
       "      <td>Chicago</td>\n",
       "      <td>89801.78</td>\n",
       "    </tr>\n",
       "    <tr>\n",
       "      <th>4</th>\n",
       "      <td>Denver</td>\n",
       "      <td>94948.03</td>\n",
       "    </tr>\n",
       "    <tr>\n",
       "      <th>5</th>\n",
       "      <td>Los Angeles</td>\n",
       "      <td>97766.39</td>\n",
       "    </tr>\n",
       "    <tr>\n",
       "      <th>6</th>\n",
       "      <td>Nashville</td>\n",
       "      <td>74589.04</td>\n",
       "    </tr>\n",
       "    <tr>\n",
       "      <th>7</th>\n",
       "      <td>New York</td>\n",
       "      <td>122290.97</td>\n",
       "    </tr>\n",
       "    <tr>\n",
       "      <th>8</th>\n",
       "      <td>San Diego</td>\n",
       "      <td>106769.00</td>\n",
       "    </tr>\n",
       "    <tr>\n",
       "      <th>9</th>\n",
       "      <td>Tampa</td>\n",
       "      <td>75533.99</td>\n",
       "    </tr>\n",
       "  </tbody>\n",
       "</table>\n",
       "</div>"
      ],
      "text/plain": [
       "          City  Total_Cost\n",
       "0      Atlanta    75559.66\n",
       "1       Austin    70092.91\n",
       "2       Boston   105947.07\n",
       "3      Chicago    89801.78\n",
       "4       Denver    94948.03\n",
       "5  Los Angeles    97766.39\n",
       "6    Nashville    74589.04\n",
       "7     New York   122290.97\n",
       "8    San Diego   106769.00\n",
       "9        Tampa    75533.99"
      ]
     },
     "execution_count": 66,
     "metadata": {},
     "output_type": "execute_result"
    }
   ],
   "source": [
    "newdata = newdata.round(2)\n",
    "newdata"
   ]
  },
  {
   "cell_type": "code",
   "execution_count": 67,
   "id": "47eb2c75-abd5-4a78-a343-88c1c6512a25",
   "metadata": {},
   "outputs": [],
   "source": [
    "newdata = newdata.set_index(\"City\")"
   ]
  },
  {
   "cell_type": "code",
   "execution_count": 68,
   "id": "f26e2364-ded1-4c55-94b9-156ccfd56eb4",
   "metadata": {},
   "outputs": [
    {
     "data": {
      "image/png": "[encoded data removed]",
      "text/plain": [
       "<Figure size 600x400 with 1 Axes>"
      ]
     },
     "metadata": {},
     "output_type": "display_data"
    }
   ],
   "source": [
    "total_cost_chart = newdata.plot(kind=\"bar\", figsize=(6,4))\n",
    "total_cost_chart.set_xlabel(\"City\")\n",
    "total_cost_chart.set_ylabel(\"Cost of Living\")\n",
    "total_cost_chart.set_title(\"Total Cost of Living\")\n",
    "plt.tight_layout()\n",
    "plt.show()"
   ]
  },
  {
   "cell_type": "code",
   "execution_count": 69,
   "id": "36b6b812-a4a2-4c53-80a0-f7d0a6ca282c",
   "metadata": {},
   "outputs": [],
   "source": [
    "newdata.to_csv('total_cost.csv', index=True) "
   ]
  },
  {
   "cell_type": "code",
   "execution_count": 70,
   "id": "248c2d85-ef5d-4a0e-9e8b-131c7e48c647",
   "metadata": {
    "scrolled": true
   },
   "outputs": [],
   "source": [
    "#newdata[\"Total_Cost\"] = newdata [\"Total_Cost\"].astype(float).map(\"${:,.2f}\".format)"
   ]
  },
  {
   "cell_type": "code",
   "execution_count": 71,
   "id": "b0f5bcb5-5f82-42b2-bd2a-408e2530caa9",
   "metadata": {
    "scrolled": true
   },
   "outputs": [
    {
     "data": {
      "text/html": [
       "<div>\n",
       "<style scoped>\n",
       "    .dataframe tbody tr th:only-of-type {\n",
       "        vertical-align: middle;\n",
       "    }\n",
       "\n",
       "    .dataframe tbody tr th {\n",
       "        vertical-align: top;\n",
       "    }\n",
       "\n",
       "    .dataframe thead th {\n",
       "        text-align: right;\n",
       "    }\n",
       "</style>\n",
       "<table border=\"1\" class=\"dataframe\">\n",
       "  <thead>\n",
       "    <tr style=\"text-align: right;\">\n",
       "      <th></th>\n",
       "      <th>Total_Cost</th>\n",
       "      <th>Rank</th>\n",
       "    </tr>\n",
       "    <tr>\n",
       "      <th>City</th>\n",
       "      <th></th>\n",
       "      <th></th>\n",
       "    </tr>\n",
       "  </thead>\n",
       "  <tbody>\n",
       "    <tr>\n",
       "      <th>Austin</th>\n",
       "      <td>70092.91</td>\n",
       "      <td>1.0</td>\n",
       "    </tr>\n",
       "    <tr>\n",
       "      <th>Nashville</th>\n",
       "      <td>74589.04</td>\n",
       "      <td>2.0</td>\n",
       "    </tr>\n",
       "    <tr>\n",
       "      <th>Tampa</th>\n",
       "      <td>75533.99</td>\n",
       "      <td>3.0</td>\n",
       "    </tr>\n",
       "    <tr>\n",
       "      <th>Atlanta</th>\n",
       "      <td>75559.66</td>\n",
       "      <td>4.0</td>\n",
       "    </tr>\n",
       "    <tr>\n",
       "      <th>Chicago</th>\n",
       "      <td>89801.78</td>\n",
       "      <td>5.0</td>\n",
       "    </tr>\n",
       "    <tr>\n",
       "      <th>Denver</th>\n",
       "      <td>94948.03</td>\n",
       "      <td>6.0</td>\n",
       "    </tr>\n",
       "    <tr>\n",
       "      <th>Los Angeles</th>\n",
       "      <td>97766.39</td>\n",
       "      <td>7.0</td>\n",
       "    </tr>\n",
       "    <tr>\n",
       "      <th>Boston</th>\n",
       "      <td>105947.07</td>\n",
       "      <td>8.0</td>\n",
       "    </tr>\n",
       "    <tr>\n",
       "      <th>San Diego</th>\n",
       "      <td>106769.00</td>\n",
       "      <td>9.0</td>\n",
       "    </tr>\n",
       "    <tr>\n",
       "      <th>New York</th>\n",
       "      <td>122290.97</td>\n",
       "      <td>10.0</td>\n",
       "    </tr>\n",
       "  </tbody>\n",
       "</table>\n",
       "</div>"
      ],
      "text/plain": [
       "             Total_Cost  Rank\n",
       "City                         \n",
       "Austin         70092.91   1.0\n",
       "Nashville      74589.04   2.0\n",
       "Tampa          75533.99   3.0\n",
       "Atlanta        75559.66   4.0\n",
       "Chicago        89801.78   5.0\n",
       "Denver         94948.03   6.0\n",
       "Los Angeles    97766.39   7.0\n",
       "Boston        105947.07   8.0\n",
       "San Diego     106769.00   9.0\n",
       "New York      122290.97  10.0"
      ]
     },
     "execution_count": 71,
     "metadata": {},
     "output_type": "execute_result"
    }
   ],
   "source": [
    "newdata['Rank'] = newdata['Total_Cost'].rank(ascending=True)\n",
    "# Sort the dataframe by rank\n",
    "newdata = newdata.sort_values(by='Rank')\n",
    "newdata"
   ]
  },
  {
   "cell_type": "code",
   "execution_count": 72,
   "id": "bb8c251c-683b-48d7-be7a-5e3bd55256f4",
   "metadata": {
    "scrolled": true
   },
   "outputs": [
    {
     "data": {
      "text/html": [
       "<div>\n",
       "<style scoped>\n",
       "    .dataframe tbody tr th:only-of-type {\n",
       "        vertical-align: middle;\n",
       "    }\n",
       "\n",
       "    .dataframe tbody tr th {\n",
       "        vertical-align: top;\n",
       "    }\n",
       "\n",
       "    .dataframe thead th {\n",
       "        text-align: right;\n",
       "    }\n",
       "</style>\n",
       "<table border=\"1\" class=\"dataframe\">\n",
       "  <thead>\n",
       "    <tr style=\"text-align: right;\">\n",
       "      <th></th>\n",
       "      <th>Total_Cost</th>\n",
       "      <th>Rank</th>\n",
       "    </tr>\n",
       "  </thead>\n",
       "  <tbody>\n",
       "    <tr>\n",
       "      <th>count</th>\n",
       "      <td>10.000000</td>\n",
       "      <td>10.00000</td>\n",
       "    </tr>\n",
       "    <tr>\n",
       "      <th>mean</th>\n",
       "      <td>91329.884000</td>\n",
       "      <td>5.50000</td>\n",
       "    </tr>\n",
       "    <tr>\n",
       "      <th>std</th>\n",
       "      <td>17310.713196</td>\n",
       "      <td>3.02765</td>\n",
       "    </tr>\n",
       "    <tr>\n",
       "      <th>min</th>\n",
       "      <td>70092.910000</td>\n",
       "      <td>1.00000</td>\n",
       "    </tr>\n",
       "    <tr>\n",
       "      <th>25%</th>\n",
       "      <td>75540.407500</td>\n",
       "      <td>3.25000</td>\n",
       "    </tr>\n",
       "    <tr>\n",
       "      <th>50%</th>\n",
       "      <td>92374.905000</td>\n",
       "      <td>5.50000</td>\n",
       "    </tr>\n",
       "    <tr>\n",
       "      <th>75%</th>\n",
       "      <td>103901.900000</td>\n",
       "      <td>7.75000</td>\n",
       "    </tr>\n",
       "    <tr>\n",
       "      <th>max</th>\n",
       "      <td>122290.970000</td>\n",
       "      <td>10.00000</td>\n",
       "    </tr>\n",
       "  </tbody>\n",
       "</table>\n",
       "</div>"
      ],
      "text/plain": [
       "          Total_Cost      Rank\n",
       "count      10.000000  10.00000\n",
       "mean    91329.884000   5.50000\n",
       "std     17310.713196   3.02765\n",
       "min     70092.910000   1.00000\n",
       "25%     75540.407500   3.25000\n",
       "50%     92374.905000   5.50000\n",
       "75%    103901.900000   7.75000\n",
       "max    122290.970000  10.00000"
      ]
     },
     "execution_count": 72,
     "metadata": {},
     "output_type": "execute_result"
    }
   ],
   "source": [
    "newdata = newdata.describe()\n",
    "newdata"
   ]
  },
  {
   "cell_type": "code",
   "execution_count": 73,
   "id": "590a76d5-7ec0-4897-bf8a-9cdcfee51c49",
   "metadata": {},
   "outputs": [],
   "source": [
    "#newdata.to_csv('total_cost.csv', index=True) "
   ]
  },
  {
   "cell_type": "code",
   "execution_count": 74,
   "id": "18395f79-9231-49a2-bd17-0030bedc9352",
   "metadata": {},
   "outputs": [],
   "source": [
    "#newdata = newdata.sort_values(by='Total_Cost', ascending=False)"
   ]
  },
  {
   "cell_type": "code",
   "execution_count": 75,
   "id": "0043daf3-d79d-4d84-8e43-4fac2ed230a9",
   "metadata": {},
   "outputs": [],
   "source": [
    "#newdata"
   ]
  },
  {
   "cell_type": "code",
   "execution_count": 76,
   "id": "22201491-0006-4517-a709-55d206461418",
   "metadata": {},
   "outputs": [],
   "source": [
    "#newdata.to_csv('total_cost2.csv', index=False) "
   ]
  },
  {
   "cell_type": "code",
   "execution_count": 77,
   "id": "8ccdadfc-a75f-44e0-a68c-ee76c05f6f35",
   "metadata": {},
   "outputs": [],
   "source": [
    "#newdata = newdata.sort_values(by='Total_Cost', ascending=True)"
   ]
  },
  {
   "cell_type": "code",
   "execution_count": 78,
   "id": "4ff9946b-abe5-4d87-a66a-06d97bbeaf82",
   "metadata": {},
   "outputs": [],
   "source": [
    "#newdata"
   ]
  },
  {
   "cell_type": "code",
   "execution_count": 79,
   "id": "e366e0b4-9aef-458d-bbc7-627fa1bc134c",
   "metadata": {},
   "outputs": [],
   "source": [
    "#newdata.to_csv('total_cost3.csv', index=False) "
   ]
  },
  {
   "cell_type": "code",
   "execution_count": null,
   "id": "27fc43b5-f2a1-4ca3-b0fb-5a5b89c8be5c",
   "metadata": {},
   "outputs": [],
   "source": []
  },
  {
   "cell_type": "code",
   "execution_count": null,
   "id": "2c4d1c9e-1fdd-4215-8022-5cb0b75e35eb",
   "metadata": {},
   "outputs": [],
   "source": []
  },
  {
   "cell_type": "code",
   "execution_count": null,
   "id": "ad96da97-cfed-4516-9d7b-6e3db0fc3819",
   "metadata": {},
   "outputs": [],
   "source": []
  }
 ],
 "metadata": {
  "kernelspec": {
   "display_name": "Python 3 (ipykernel)",
   "language": "python",
   "name": "python3"
  },
  "language_info": {
   "codemirror_mode": {
    "name": "ipython",
    "version": 3
   },
   "file_extension": ".py",
   "mimetype": "text/x-python",
   "name": "python",
   "nbconvert_exporter": "python",
   "pygments_lexer": "ipython3",
   "version": "3.12.4"
  }
 },
 "nbformat": 4,
 "nbformat_minor": 5
}
