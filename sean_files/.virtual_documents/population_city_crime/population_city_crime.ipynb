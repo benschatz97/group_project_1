# Dependencies
import pandas as pd
from pathlib import Path
import matplotlib.pyplot as plt
import numpy as np
import warnings
warnings.filterwarnings('ignore')



# Create A Path to the CSV file
crime_rates = Path("./crime_250_plus.csv")
cities_population = Path("./population.csv")

# Read School and Student Data File and store into Pandas DataFrames
cities_crime_rates_df = pd.read_csv(crime_rates)
population_city_df = pd.read_csv(cities_population)

# Combine both CSV files into dataset
crime_rates_plus_population_df = pd.merge(cities_crime_rates_df, population_city_df, left_on= "cities", right_on= "US City", how= "right")
crime_rates_plus_population_df.head()



# filter cities to the 10 chosen for the project
filtered_cities_crime= cities_crime_rates_df[cities_crime_rates_df['cities'].isin(['Atlanta', 'Austin', 'Chicago', 'Denver', 'Los Angeles', 'Nashville', 'New York', 'San Diego', 'Tampa', 'Boston'])]
filtered_cities_crime

# Now set an index for your cities
filtered_cities_crime = filtered_cities_crime.set_index("cities")
filtered_cities_crime


# New Data Frame with only certain columns (states, cities, total_crime)
updated_cities_crime_rates = filtered_cities_crime[["states", "total_crime"]]
updated_cities_crime_rates


total_crime_df= updated_cities_crime_rates["total_crime"]
total_crime_df


updated_cities_crime_rates['total crime score'] = updated_cities_crime_rates['total_crime'].rank()
updated_cities_crime_rates


# Create a bar graph for the assigned cities crime
cities_crime_rates_graph= total_crime_df.plot(kind="bar")
cities_crime_rates_graph.set_xlabel("Cities")
cities_crime_rates_graph.set_ylabel("Crime Rates per Cities")
cities_crime_rates_graph.set_title("Total Crimes per Cities")
plt.xticks(rotation = 45)
plt.show()


# Create a scatter plot for Total Crimes per Cities
plt.scatter(
