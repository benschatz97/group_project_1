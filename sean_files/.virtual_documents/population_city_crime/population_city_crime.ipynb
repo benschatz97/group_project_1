# Dependencies
import pandas as pd
from pathlib import Path
import matplotlib.pyplot as plt
import numpy as np



# Create a DataFrame
#city_crime_rates_df = pd.read_csv("/Users/SmDai/documents/Sean's Documents/NU Group Project 1/usa_crime_rates.csv")
#city_crime_rates_df


# Create A Path to the CSV file
csv_path = Path("./crime_250_plus.csv")


# Read in the CSV file
cities_crime_rates = pd.read_csv('crime_250_plus.csv')

# Print the CSV file
cities_crime_rates


# filter cities to the 10 chosen for the project
filtered_cities_crime= city_crime_rates_df[city_crime_rates_df['cities'].isin(['Atlanta', 'Austin', 'Chicago', 'Denver', 'Los Angeles', 'Nashville', 'New York', 'San Diego', 'Tampa', 'Boston'])]
filtered_cities_crime



