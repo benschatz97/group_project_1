# Dependencies
import pandas as pd
from pathlib import Path
import matplotlib.pyplot as plt
import numpy as np
from scipy.stats import linregress
import warnings
warnings.filterwarnings('ignore')



# Create A Path to the CSV file
crime_rates = Path("./crime_250_plus.csv")
cities_population = Path("./Population of all US Cities 2024.csv")

# Read School and Student Data File and store into Pandas DataFrames
cities_crime_rates_df = pd.read_csv(crime_rates)
population_city_df = pd.read_csv(cities_population)

# Combine both CSV files into dataset
c = pd.merge(cities_crime_rates_df, population_city_df, left_on= "cities", right_on= "US City", how= "right")
crime_rates_plus_population_df.head()



# filter cities to the 10 chosen for the project
cities_filtered_df = crime_rates_plus_population_df[crime_rates_plus_population_df['cities'].isin(['Atlanta', 'Austin', 'Chicago', 'Denver', 'Los Angeles', 'Nashville', 'New York', 'San Diego', 'Tampa', 'Boston'])]
cities_filtered_df

# Now set an index for your cities
filtered_cities_crime = cities_filtered_df.set_index("cities")
filtered_cities_crime


# New Data Frame with only certain columns (states, cities, total_crime)
cities_crime_rates_clean = filtered_cities_crime[["states", "Population 2024", "total_crime"]]
cities_crime_rates_clean


total_crime_df= cities_crime_rates_clean["total_crime"]
total_crime_df


cities_crime_rates_clean['total crime score'] = cities_crime_rates_clean['total_crime'].rank()
cities_crime_rates_clean


cities_crime_rates_clean.sort_values(ascending = False)
cities_crime_rates_clean


# Create a bar graph for the assigned cities crime
cities_crime_rates_graph= total_crime_df.plot(kind="bar")
cities_crime_rates_graph.set_xlabel("Cities")
cities_crime_rates_graph.set_ylabel("Crime Rates per Cities")
cities_crime_rates_graph.set_title("Total Crimes per Cities")
plt.xticks(rotation = 45)
plt.show()


# label x and y values
x_values= cities_crime_rates_clean['Population 2024']
y_values = cities_crime_rates_clean['total_crime']

# Create a scatter plot for Total Crimes per Cities
plt.xlabel("Total Crime per City")
plt.ylabel("2024 City Population (Millions)")
plt.title("2024 City Population vs Total Crime per City")
plt.ylim(0,9000000)
plt.scatter(y,x)


# Create a line regression graph
x_values = cities_crime_rates_clean['Population 2024']
y_values = cities_crime_rates_clean['total_crime']
(slope, intercept, rvalue, pvalue, stderr) = linregress(x_values, y_values)
regress_values = x_values * slope + intercept
line_eq = "y = " + str(round(slope,2)) + "x + " + str(round(intercept,2))
plt.scatter(x_values,y_values)
plt.plot(x_values,regress_values,"r-")
plt.annotate(line_eq,(5.8,0.8),fontsize=15,color="red")
plt.xlabel('Total Crime per City')
plt.ylabel('2024 City Population (Millions)')
plt.show()



