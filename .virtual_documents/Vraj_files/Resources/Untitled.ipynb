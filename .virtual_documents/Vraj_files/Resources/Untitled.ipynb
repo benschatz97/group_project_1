import pandas as pd
from pathlib import Path
import seaborn as sns
from sklearn.linear_model import LinearRegression
import matplotlib.pyplot as plt
import numpy as np
from matplotlib.ticker import FuncFormatter


pop_df = pd.read_csv('./Population of all US Cities 2024.csv')


cities = ["Atlanta", "Austin", "Chicago", "Denver", "Los Angeles", 
          "Nashville", "New York", "San Diego", "Boston", "Tampa"]

# Replace "Nashville (balance)" with "Nashville" in the DataFrame
pop_df['US City'] = pop_df['US City'].replace('Nashville (balance)', 'Nashville')

# Filter the DataFrame for the specified cities
pop_filtered_df = pop_df[pop_df['US City'].isin(cities)]

# Display the filtered data
pop_filtered_df


pop_filtered_df_cleaned = pop_filtered_df.iloc[:, :-2]
pop_filtered_df_cleaned


# Convert the "Annual Change" column values to percentages
pop_filtered_df_cleaned['Annual Change'] = pop_filtered_df_cleaned['Annual Change'].apply(lambda x: f"{round(x * 100, 2)}%")
# Display the updated dataframe"
pop_filtered_df_cleaned


pop_filtered_df_cleaned['Rank'] = pop_filtered_df_cleaned['Population 2024'].rank(ascending=False)
# Sort the dataframe by rank
pop_ranked_cities_df = pop_filtered_df_cleaned.sort_values(by='Rank')

# Display the ranked cities
pop_ranked_cities_df


cities = pop_filtered_df_cleaned['US City']

# Define the bar width and positions for the bars
bar_width = 0.35
index = np.arange(len(cities))

# Create the plot
fig, ax = plt.subplots(figsize=(12, 7))

# Plot the bars for Population 2020 and Population 2024
bars1 = ax.bar(index, pop_filtered_df_cleaned['Population 2020'], bar_width, label='Population 2020')
bars2 = ax.bar(index + bar_width, pop_filtered_df_cleaned['Population 2024'], bar_width, label='Population 2024')

# Add labels, title, and ticks
ax.set_xlabel('City')
ax.set_ylabel('Population')
ax.set_title('Population Comparison: 2020 vs 2024')
ax.set_xticks(index + bar_width / 2)
ax.set_xticklabels(cities, rotation=45, ha='right')

# Add legend
ax.legend()

# Display the plot
plt.tight_layout()
plt.show()






